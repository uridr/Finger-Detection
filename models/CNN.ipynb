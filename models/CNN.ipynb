{
 "cells": [
  {
   "cell_type": "code",
   "execution_count": 1,
   "metadata": {
    "colab": {},
    "colab_type": "code",
    "id": "y9Jd1wSedquf"
   },
   "outputs": [],
   "source": [
    "import numpy as np\n",
    "import torch\n",
    "import torch.optim as optim\n",
    "\n",
    "import cv2\n",
    "import scipy.ndimage\n",
    "import os\n",
    "\n",
    "import torch.nn as nn\n",
    "import torch.nn.functional as F\n",
    "import torchvision.datasets\n",
    "from torchvision import transforms\n",
    "import torch.utils.data as data\n",
    "\n",
    "from timeit import default_timer as timer\n",
    "import random\n",
    "from random import shuffle\n",
    "\n",
    "import matplotlib.pyplot as plt  \n",
    "%matplotlib inline\n",
    "\n",
    "from PIL import Image"
   ]
  },
  {
   "cell_type": "code",
   "execution_count": 154,
   "metadata": {
    "colab": {},
    "colab_type": "code",
    "id": "UVgHFU8NoM7W"
   },
   "outputs": [],
   "source": [
    "def load_images_from_folder(folder):\n",
    "    images = {}\n",
    "    for filename in os.listdir(folder):\n",
    "        if filename == '.DS_Store':\n",
    "          print(filename)\n",
    "        else:\n",
    "          img = cv2.imread(os.path.join(folder,filename))\n",
    "        if img is not None:\n",
    "            images[filename.split('.')[0]] = img  #remove extension from file name\n",
    "    return images"
   ]
  },
  {
   "cell_type": "code",
   "execution_count": 155,
   "metadata": {
    "colab": {
     "base_uri": "https://localhost:8080/",
     "height": 34
    },
    "colab_type": "code",
    "id": "jaDm_X1IhoD5",
    "outputId": "cdf7ee69-2413-4920-8b4d-b4f23c4d2423"
   },
   "outputs": [
    {
     "name": "stdout",
     "output_type": "stream",
     "text": [
      "cpu\n"
     ]
    }
   ],
   "source": [
    "device = torch.device(\"cuda:0\" if torch.cuda.is_available() else \"cpu\")\n",
    "print(device)"
   ]
  },
  {
   "cell_type": "code",
   "execution_count": 4,
   "metadata": {
    "colab": {
     "base_uri": "https://localhost:8080/",
     "height": 85
    },
    "colab_type": "code",
    "id": "h9i0ugnWoZyC",
    "outputId": "dac6440d-528b-48b3-9992-76f05806ac3d"
   },
   "outputs": [],
   "source": [
    "train_data_1 = load_images_from_folder(\"../data/Training-Dataset/Resize-Augmented-Masks/1/\")\n",
    "train_data_2 = load_images_from_folder(\"../data/Training-Dataset/Resize-Augmented-Masks/2/\")\n",
    "train_data_3 = load_images_from_folder(\"../data/Training-Dataset/Resize-Augmented-Masks/3/\")\n",
    "train_data_4 = load_images_from_folder(\"../data/Training-Dataset/Resize-Augmented-Masks/4/\")\n",
    "train_data_5 = load_images_from_folder(\"../data/Training-Dataset/Resize-Augmented-Masks/5/\")"
   ]
  },
  {
   "cell_type": "code",
   "execution_count": 156,
   "metadata": {},
   "outputs": [],
   "source": [
    "train_data = load_images_from_folder(\"../data/Training-Dataset/Resize-Augmented-Predicted-Masks/\")\n",
    "test_data  = load_images_from_folder(\"../data/Validation-Dataset/Predicted-Masks/\")"
   ]
  },
  {
   "cell_type": "code",
   "execution_count": 0,
   "metadata": {
    "colab": {},
    "colab_type": "code",
    "id": "gMoKtsb3ubgt"
   },
   "outputs": [],
   "source": [
    "test_data_1 = load_images_from_folder(\"/content/drive/My Drive/Resize-Augmented-Predicted-Masks/1/\")\n",
    "test_data_2 = load_images_from_folder(\"/content/drive/My Drive/Resize-Augmented-Predicted-Masks/2/\")\n",
    "test_data_3 = load_images_from_folder(\"/content/drive/My Drive/Resize-Augmented-Predicted-Masks/3/\")\n",
    "test_data_4 = load_images_from_folder(\"/content/drive/My Drive/Resize-Augmented-Predicted-Masks/4/\")\n",
    "test_data_5 = load_images_from_folder(\"/content/drive/My Drive/Resize-Augmented-Predicted-Masks/5/\")"
   ]
  },
  {
   "cell_type": "code",
   "execution_count": 157,
   "metadata": {
    "colab": {},
    "colab_type": "code",
    "id": "M5BCpSAlraYZ"
   },
   "outputs": [],
   "source": [
    "def resizeData(images, width=256, height=256, filter=True, kernel_size=5):\n",
    "    resize = {}\n",
    "    for key in images.keys(): \n",
    "        image = images[key].copy()\n",
    "        \n",
    "        if filter:\n",
    "            image = cv2.GaussianBlur(image, (kernel_size, kernel_size),0 )\n",
    "        \n",
    "        resize[key] = cv2.resize(image, (width, height), interpolation = cv2.INTER_AREA)\n",
    "        \n",
    "    return resize\n"
   ]
  },
  {
   "cell_type": "code",
   "execution_count": 158,
   "metadata": {
    "colab": {},
    "colab_type": "code",
    "id": "xyXF7k5Co3o7"
   },
   "outputs": [],
   "source": [
    "def augmentData(data, folderName, augment = True):\n",
    "  augmentation = {}  \n",
    "  print(\"augmenting\")\n",
    "  \n",
    "  if augment:\n",
    "    for key in data.keys():\n",
    "      for i in range(0,360,40):\n",
    "        augmentation[str(key) + 'rotation' + str(i)] = scipy.ndimage.rotate(data[key], i, reshape=False, cval = 255, mode='constant')  \n",
    "  else:\n",
    "    augmentation = data \n",
    "  \n",
    "  print(\"resizing\")  \n",
    "  resize = resizeData(augmentation, filter = False)\n",
    "\n",
    "  augmented = []\n",
    "  labels = []\n",
    "  for key_ in resize.keys():\n",
    "    inv = 255-resize[key_]\n",
    "    img = inv.clip(max=1)\n",
    "    #print(np.unique(img))\n",
    "    augmented.append(img)\n",
    "    labels.append(np.array(folderName-1))\n",
    "  \n",
    "  \n",
    "  return np.array(augmented), np.array(labels)"
   ]
  },
  {
   "cell_type": "code",
   "execution_count": 159,
   "metadata": {},
   "outputs": [],
   "source": [
    "def labeledImages(images): \n",
    "    return [int(key[0])-1 for key in images.keys()]"
   ]
  },
  {
   "cell_type": "code",
   "execution_count": 160,
   "metadata": {
    "colab": {
     "base_uri": "https://localhost:8080/",
     "height": 187
    },
    "colab_type": "code",
    "id": "PAoJjBAHsWYO",
    "outputId": "3efea2ad-cfa7-4f66-8bbc-1485cfef1a01"
   },
   "outputs": [
    {
     "name": "stdout",
     "output_type": "stream",
     "text": [
      "augmenting\n",
      "resizing\n",
      "augmenting\n",
      "resizing\n",
      "augmenting\n",
      "resizing\n",
      "augmenting\n",
      "resizing\n",
      "augmenting\n",
      "resizing\n"
     ]
    }
   ],
   "source": [
    "aug1, lab1 = augmentData(train_data_1, 1, augment=False)\n",
    "aug2, lab2 = augmentData(train_data_2, 2, augment=False)\n",
    "aug3, lab3 = augmentData(train_data_3, 3, augment=False)\n",
    "aug4, lab4 = augmentData(train_data_4, 4, augment=False)\n",
    "aug5, lab5 = augmentData(train_data_5, 5, augment=False)"
   ]
  },
  {
   "cell_type": "code",
   "execution_count": 161,
   "metadata": {},
   "outputs": [
    {
     "name": "stdout",
     "output_type": "stream",
     "text": [
      "augmenting\n",
      "resizing\n"
     ]
    }
   ],
   "source": [
    "aug_train,_ =  augmentData(train_data,1, augment=False)\n",
    "labels_train = labeledImages(train_data)"
   ]
  },
  {
   "cell_type": "code",
   "execution_count": 162,
   "metadata": {},
   "outputs": [
    {
     "name": "stdout",
     "output_type": "stream",
     "text": [
      "augmenting\n",
      "resizing\n"
     ]
    }
   ],
   "source": [
    "aug_test,_ =  augmentData(test_data,1, augment=False)\n",
    "labels_test = labeledImages(test_data)"
   ]
  },
  {
   "cell_type": "code",
   "execution_count": 163,
   "metadata": {},
   "outputs": [
    {
     "data": {
      "text/plain": [
       "360"
      ]
     },
     "execution_count": 163,
     "metadata": {},
     "output_type": "execute_result"
    }
   ],
   "source": [
    "len(labels_train)"
   ]
  },
  {
   "cell_type": "code",
   "execution_count": 164,
   "metadata": {
    "colab": {
     "base_uri": "https://localhost:8080/",
     "height": 187
    },
    "colab_type": "code",
    "id": "OxBEimxk0Miy",
    "outputId": "1ef1144a-e126-4d5e-cfb5-920d1c20c1a4"
   },
   "outputs": [
    {
     "ename": "NameError",
     "evalue": "name 'test_data_1' is not defined",
     "output_type": "error",
     "traceback": [
      "\u001b[0;31m---------------------------------------------------------------------------\u001b[0m",
      "\u001b[0;31mNameError\u001b[0m                                 Traceback (most recent call last)",
      "\u001b[0;32m<ipython-input-164-1f91304dcd5d>\u001b[0m in \u001b[0;36m<module>\u001b[0;34m\u001b[0m\n\u001b[0;32m----> 1\u001b[0;31m \u001b[0maug1_val\u001b[0m\u001b[0;34m,\u001b[0m \u001b[0mlab1_val\u001b[0m \u001b[0;34m=\u001b[0m \u001b[0maugmentData\u001b[0m\u001b[0;34m(\u001b[0m\u001b[0mtest_data_1\u001b[0m\u001b[0;34m,\u001b[0m \u001b[0;36m1\u001b[0m\u001b[0;34m,\u001b[0m \u001b[0maugment\u001b[0m\u001b[0;34m=\u001b[0m\u001b[0;32mFalse\u001b[0m\u001b[0;34m)\u001b[0m\u001b[0;34m\u001b[0m\u001b[0;34m\u001b[0m\u001b[0m\n\u001b[0m\u001b[1;32m      2\u001b[0m \u001b[0maug2_val\u001b[0m\u001b[0;34m,\u001b[0m \u001b[0mlab2_val\u001b[0m \u001b[0;34m=\u001b[0m \u001b[0maugmentData\u001b[0m\u001b[0;34m(\u001b[0m\u001b[0mtest_data_2\u001b[0m\u001b[0;34m,\u001b[0m \u001b[0;36m2\u001b[0m\u001b[0;34m,\u001b[0m \u001b[0maugment\u001b[0m\u001b[0;34m=\u001b[0m\u001b[0;32mFalse\u001b[0m\u001b[0;34m)\u001b[0m\u001b[0;34m\u001b[0m\u001b[0;34m\u001b[0m\u001b[0m\n\u001b[1;32m      3\u001b[0m \u001b[0maug3_val\u001b[0m\u001b[0;34m,\u001b[0m \u001b[0mlab3_val\u001b[0m \u001b[0;34m=\u001b[0m \u001b[0maugmentData\u001b[0m\u001b[0;34m(\u001b[0m\u001b[0mtest_data_3\u001b[0m\u001b[0;34m,\u001b[0m \u001b[0;36m3\u001b[0m\u001b[0;34m,\u001b[0m \u001b[0maugment\u001b[0m\u001b[0;34m=\u001b[0m\u001b[0;32mFalse\u001b[0m\u001b[0;34m)\u001b[0m\u001b[0;34m\u001b[0m\u001b[0;34m\u001b[0m\u001b[0m\n\u001b[1;32m      4\u001b[0m \u001b[0maug4_val\u001b[0m\u001b[0;34m,\u001b[0m \u001b[0mlab4_val\u001b[0m \u001b[0;34m=\u001b[0m \u001b[0maugmentData\u001b[0m\u001b[0;34m(\u001b[0m\u001b[0mtest_data_4\u001b[0m\u001b[0;34m,\u001b[0m \u001b[0;36m4\u001b[0m\u001b[0;34m,\u001b[0m \u001b[0maugment\u001b[0m\u001b[0;34m=\u001b[0m\u001b[0;32mFalse\u001b[0m\u001b[0;34m)\u001b[0m\u001b[0;34m\u001b[0m\u001b[0;34m\u001b[0m\u001b[0m\n\u001b[1;32m      5\u001b[0m \u001b[0maug5_val\u001b[0m\u001b[0;34m,\u001b[0m \u001b[0mlab5_val\u001b[0m \u001b[0;34m=\u001b[0m \u001b[0maugmentData\u001b[0m\u001b[0;34m(\u001b[0m\u001b[0mtest_data_5\u001b[0m\u001b[0;34m,\u001b[0m \u001b[0;36m5\u001b[0m\u001b[0;34m,\u001b[0m \u001b[0maugment\u001b[0m\u001b[0;34m=\u001b[0m\u001b[0;32mFalse\u001b[0m\u001b[0;34m)\u001b[0m\u001b[0;34m\u001b[0m\u001b[0;34m\u001b[0m\u001b[0m\n",
      "\u001b[0;31mNameError\u001b[0m: name 'test_data_1' is not defined"
     ]
    }
   ],
   "source": [
    "aug1_val, lab1_val = augmentData(test_data_1, 1, augment=False)\n",
    "aug2_val, lab2_val = augmentData(test_data_2, 2, augment=False)\n",
    "aug3_val, lab3_val = augmentData(test_data_3, 3, augment=False)\n",
    "aug4_val, lab4_val = augmentData(test_data_4, 4, augment=False)\n",
    "aug5_val, lab5_val = augmentData(test_data_5, 5, augment=False)"
   ]
  },
  {
   "cell_type": "code",
   "execution_count": 165,
   "metadata": {
    "colab": {},
    "colab_type": "code",
    "id": "Wm-PQVHzxMKo"
   },
   "outputs": [],
   "source": [
    "aug = np.concatenate((aug1,aug2,aug3,aug4,aug5))\n",
    "labels = np.concatenate((lab1,lab2,lab3,lab4,lab5))"
   ]
  },
  {
   "cell_type": "code",
   "execution_count": 166,
   "metadata": {
    "colab": {},
    "colab_type": "code",
    "id": "-ovMYwkk06iu"
   },
   "outputs": [
    {
     "ename": "NameError",
     "evalue": "name 'aug1_val' is not defined",
     "output_type": "error",
     "traceback": [
      "\u001b[0;31m---------------------------------------------------------------------------\u001b[0m",
      "\u001b[0;31mNameError\u001b[0m                                 Traceback (most recent call last)",
      "\u001b[0;32m<ipython-input-166-65a4c5f80fee>\u001b[0m in \u001b[0;36m<module>\u001b[0;34m\u001b[0m\n\u001b[0;32m----> 1\u001b[0;31m \u001b[0maug_val\u001b[0m \u001b[0;34m=\u001b[0m \u001b[0mnp\u001b[0m\u001b[0;34m.\u001b[0m\u001b[0mconcatenate\u001b[0m\u001b[0;34m(\u001b[0m\u001b[0;34m(\u001b[0m\u001b[0maug1_val\u001b[0m\u001b[0;34m,\u001b[0m\u001b[0maug2_val\u001b[0m\u001b[0;34m,\u001b[0m\u001b[0maug3_val\u001b[0m\u001b[0;34m,\u001b[0m\u001b[0maug4_val\u001b[0m\u001b[0;34m,\u001b[0m\u001b[0maug5_val\u001b[0m\u001b[0;34m)\u001b[0m\u001b[0;34m)\u001b[0m\u001b[0;34m\u001b[0m\u001b[0;34m\u001b[0m\u001b[0m\n\u001b[0m\u001b[1;32m      2\u001b[0m \u001b[0mlabels_val\u001b[0m \u001b[0;34m=\u001b[0m \u001b[0mnp\u001b[0m\u001b[0;34m.\u001b[0m\u001b[0mconcatenate\u001b[0m\u001b[0;34m(\u001b[0m\u001b[0;34m(\u001b[0m\u001b[0mlab1_val\u001b[0m\u001b[0;34m,\u001b[0m\u001b[0mlab2_val\u001b[0m\u001b[0;34m,\u001b[0m\u001b[0mlab3_val\u001b[0m\u001b[0;34m,\u001b[0m\u001b[0mlab4_val\u001b[0m\u001b[0;34m,\u001b[0m\u001b[0mlab5_val\u001b[0m\u001b[0;34m)\u001b[0m\u001b[0;34m)\u001b[0m\u001b[0;34m\u001b[0m\u001b[0;34m\u001b[0m\u001b[0m\n",
      "\u001b[0;31mNameError\u001b[0m: name 'aug1_val' is not defined"
     ]
    }
   ],
   "source": [
    "aug_val = np.concatenate((aug1_val,aug2_val,aug3_val,aug4_val,aug5_val))\n",
    "labels_val = np.concatenate((lab1_val,lab2_val,lab3_val,lab4_val,lab5_val))"
   ]
  },
  {
   "cell_type": "code",
   "execution_count": 167,
   "metadata": {
    "colab": {
     "base_uri": "https://localhost:8080/",
     "height": 34
    },
    "colab_type": "code",
    "id": "XH3xl71hGgAP",
    "outputId": "08914a0e-e85f-4d76-c2a7-0c9ebb70ebf2"
   },
   "outputs": [
    {
     "data": {
      "text/plain": [
       "array([0, 1], dtype=uint8)"
      ]
     },
     "execution_count": 167,
     "metadata": {},
     "output_type": "execute_result"
    }
   ],
   "source": [
    "np.unique(aug1[4,:,:,0])"
   ]
  },
  {
   "cell_type": "code",
   "execution_count": 18,
   "metadata": {
    "colab": {
     "base_uri": "https://localhost:8080/",
     "height": 136
    },
    "colab_type": "code",
    "id": "eR1trX0CXLqV",
    "outputId": "25668bb3-ca3c-4936-8028-5587c36d894b"
   },
   "outputs": [
    {
     "data": {
      "text/plain": [
       "array([[False, False, False, ..., False, False, False],\n",
       "       [False, False, False, ..., False, False, False],\n",
       "       [False, False, False, ..., False, False, False],\n",
       "       ...,\n",
       "       [False, False, False, ...,  True,  True,  True],\n",
       "       [False, False, False, ...,  True,  True,  True],\n",
       "       [False, False, False, ...,  True,  True,  True]])"
      ]
     },
     "execution_count": 18,
     "metadata": {
      "tags": []
     },
     "output_type": "execute_result"
    }
   ],
   "source": [
    "aug[0,:,:,0] == 1"
   ]
  },
  {
   "cell_type": "code",
   "execution_count": 19,
   "metadata": {
    "colab": {
     "base_uri": "https://localhost:8080/",
     "height": 164
    },
    "colab_type": "code",
    "id": "e4gfGBCNFeuK",
    "outputId": "f1a77b7a-35a3-4ecf-be64-6818ab4d3d46"
   },
   "outputs": [
    {
     "ename": "IndexError",
     "evalue": "ignored",
     "output_type": "error",
     "traceback": [
      "\u001b[0;31m---------------------------------------------------------------------------\u001b[0m",
      "\u001b[0;31mIndexError\u001b[0m                                Traceback (most recent call last)",
      "\u001b[0;32m<ipython-input-19-d68b459e0dee>\u001b[0m in \u001b[0;36m<module>\u001b[0;34m()\u001b[0m\n\u001b[0;32m----> 1\u001b[0;31m \u001b[0mplt\u001b[0m\u001b[0;34m.\u001b[0m\u001b[0mimshow\u001b[0m\u001b[0;34m(\u001b[0m\u001b[0maug1\u001b[0m\u001b[0;34m[\u001b[0m\u001b[0;36m120\u001b[0m\u001b[0;34m,\u001b[0m\u001b[0;34m:\u001b[0m\u001b[0;34m,\u001b[0m\u001b[0;34m:\u001b[0m\u001b[0;34m,\u001b[0m\u001b[0;36m0\u001b[0m\u001b[0;34m]\u001b[0m\u001b[0;34m)\u001b[0m\u001b[0;34m\u001b[0m\u001b[0;34m\u001b[0m\u001b[0m\n\u001b[0m",
      "\u001b[0;31mIndexError\u001b[0m: index 120 is out of bounds for axis 0 with size 73"
     ]
    }
   ],
   "source": [
    "plt.imshow(aug1[120,:,:,0])"
   ]
  },
  {
   "cell_type": "code",
   "execution_count": 113,
   "metadata": {
    "colab": {},
    "colab_type": "code",
    "id": "zQNRFqo2kbn4"
   },
   "outputs": [],
   "source": [
    "tensor_x = torch.FloatTensor(aug_train) # transform to torch tensor\n",
    "tensor_y = torch.LongTensor(labels_train)\n",
    "\n",
    "my_dataset = data.TensorDataset(tensor_x.permute(0,3,1,2),tensor_y) # create your datset\n",
    "trainloader = data.DataLoader(my_dataset, batch_size=60, shuffle = True) # create your dataloader\n"
   ]
  },
  {
   "cell_type": "code",
   "execution_count": 114,
   "metadata": {
    "colab": {},
    "colab_type": "code",
    "id": "BLBwdgOg1OXs"
   },
   "outputs": [],
   "source": [
    "tensor_x_val = torch.FloatTensor(aug_test) # transform to torch tensor\n",
    "tensor_y_val = torch.LongTensor(labels_test)\n",
    "\n",
    "my_dataset_val = data.TensorDataset(tensor_x_val.permute(0,3,1,2),tensor_y_val) # create your datset\n",
    "validloader = data.DataLoader(my_dataset_val, batch_size=60, shuffle = True) # create your dataloader\n"
   ]
  },
  {
   "cell_type": "code",
   "execution_count": 115,
   "metadata": {
    "colab": {
     "base_uri": "https://localhost:8080/",
     "height": 68
    },
    "colab_type": "code",
    "id": "jC35Yh6vdquo",
    "outputId": "2845364d-906f-43c7-99ea-b60f5286d4fc"
   },
   "outputs": [
    {
     "name": "stdout",
     "output_type": "stream",
     "text": [
      "Batch Label shape:  torch.Size([60])\n",
      "The Batched tensors return a collection of 60 RGB images (3 channel, 256 height pixels, 256 width pixels)\n",
      "In the case of the labels, we obtain 60 batched integers, one per image\n"
     ]
    }
   ],
   "source": [
    "iter_ = iter(trainloader)\n",
    "bimg, blabel = next(iter_)\n",
    "\n",
    "print('Batch Label shape: ', blabel.shape)\n",
    "print('The Batched tensors return a collection of {} RGB images ({} channel, {} height pixels, {} width pixels)'.format(bimg.shape[0],\n",
    "                                                                                                                        bimg.shape[1],\n",
    "                                                                                                                       bimg.shape[2],\n",
    "                                                                                                                        bimg.shape[3]))\n",
    "print('In the case of the labels, we obtain {} batched integers, one per image'.format(blabel.shape[0]))"
   ]
  },
  {
   "cell_type": "code",
   "execution_count": 116,
   "metadata": {
    "colab": {},
    "colab_type": "code",
    "id": "CdknCSl7dqur"
   },
   "outputs": [],
   "source": [
    "class conv_block(nn.Module):\n",
    "    def __init__(self,ch_in,ch_out):\n",
    "        super(conv_block,self).__init__()\n",
    "        self.conv = nn.Sequential(\n",
    "            nn.Conv2d(ch_in, ch_out, kernel_size=3,stride=1,padding=1,bias=True),\n",
    "            nn.BatchNorm2d(ch_out,track_running_stats=False),\n",
    "            nn.ReLU(inplace=True),\n",
    "            nn.Conv2d(ch_out, ch_out, kernel_size=3,stride=1,padding=1,bias=True),\n",
    "            nn.BatchNorm2d(ch_out,track_running_stats=False),\n",
    "            nn.ReLU(inplace=True)\n",
    "        )\n",
    "\n",
    "    def forward(self,x):\n",
    "        x = self.conv(x)\n",
    "        return x\n"
   ]
  },
  {
   "cell_type": "code",
   "execution_count": 147,
   "metadata": {
    "colab": {},
    "colab_type": "code",
    "id": "rbKy9kY9dqut"
   },
   "outputs": [],
   "source": [
    "class BigNet(nn.Module):\n",
    "  \n",
    "  def __init__(self):\n",
    "    super().__init__()\n",
    "    \n",
    "    self.conv1 = nn.Conv2d(1, 2 , 3, 1, padding=1)\n",
    "    self.conv_bn_1 = nn.BatchNorm2d(4)\n",
    "    self.conv2 = nn.Conv2d(2, 4, 3, 1, padding=1)\n",
    "    self.conv_bn_2 = nn.BatchNorm2d(8)    \n",
    "    self.conv3 = nn.Conv2d(4, 8 , 3, 1, padding=1)\n",
    "    self.conv_bn_3 = nn.BatchNorm2d(16)\n",
    "    self.conv4 = nn.Conv2d(8, 16 , 3, 1, padding=1)\n",
    "    self.conv_bn_4 = nn.BatchNorm2d(32)\n",
    "\n",
    "    self.pool  = nn.MaxPool2d(2,2)\n",
    "    self.act   = nn.ReLU(inplace=False)\n",
    "    self.drop = nn.Dropout2d(0.1)    \n",
    "    \n",
    "    self.mlp = nn.Sequential(\n",
    "        nn.Linear(16 * 16 * 16, 128),\n",
    "        nn.ReLU(),\n",
    "        nn.Dropout(0.3),\n",
    "        nn.Linear(128,5),        \n",
    "        nn.Softmax(dim=-1)    \n",
    "    )\n",
    " \n",
    "    \n",
    "  def forward(self, x):\n",
    "    x = self.conv_bn_1(self.conv1(x))\n",
    "    x = self.pool(self.act(x))\n",
    "    x = self.drop(x)\n",
    "\n",
    "    x = self.conv_bn_2(self.conv2(x))\n",
    "    x = self.pool(self.act(x))\n",
    "    x = self.drop(x)\n",
    "\n",
    "    x = self.conv_bn_3(self.conv3(x))\n",
    "    x = self.pool(self.act(x))\n",
    "    x = self.drop(x)\n",
    "\n",
    "    x = self.conv_bn_4(self.conv4(x))\n",
    "    x = self.pool(self.act(x))\n",
    "    x = self.drop(x)\n",
    "\n",
    "    bsz, nch, height, width = x.shape\n",
    "    x = x.view(bsz, -1)\n",
    "    \n",
    "    y = self.mlp(x)\n",
    "\n",
    "    return y"
   ]
  },
  {
   "cell_type": "code",
   "execution_count": 148,
   "metadata": {
    "colab": {},
    "colab_type": "code",
    "id": "rzIP-8R8dqux"
   },
   "outputs": [],
   "source": [
    "def model_params(model):\n",
    "    # from: https://discuss.pytorch.org/t/how-do-i-check-the-number-of-parameters-of-a-model/4325/6\n",
    "    pp=0\n",
    "    for p in list(model.parameters()):\n",
    "        nn=1\n",
    "        for s in list(p.size()):\n",
    "            nn = nn*s\n",
    "        pp += nn\n",
    "    return pp"
   ]
  },
  {
   "cell_type": "code",
   "execution_count": 149,
   "metadata": {
    "colab": {
     "base_uri": "https://localhost:8080/",
     "height": 374
    },
    "colab_type": "code",
    "id": "Ljx2aPr4dquz",
    "outputId": "e2574010-3b5f-40c5-a182-1321bf0d7840"
   },
   "outputs": [
    {
     "name": "stdout",
     "output_type": "stream",
     "text": [
      "526741\n"
     ]
    },
    {
     "data": {
      "text/plain": [
       "BigNet(\n",
       "  (conv1): Conv2d(1, 2, kernel_size=(3, 3), stride=(1, 1), padding=(1, 1))\n",
       "  (conv_bn_1): BatchNorm2d(4, eps=1e-05, momentum=0.1, affine=True, track_running_stats=True)\n",
       "  (conv2): Conv2d(2, 4, kernel_size=(3, 3), stride=(1, 1), padding=(1, 1))\n",
       "  (conv_bn_2): BatchNorm2d(8, eps=1e-05, momentum=0.1, affine=True, track_running_stats=True)\n",
       "  (conv3): Conv2d(4, 8, kernel_size=(3, 3), stride=(1, 1), padding=(1, 1))\n",
       "  (conv_bn_3): BatchNorm2d(16, eps=1e-05, momentum=0.1, affine=True, track_running_stats=True)\n",
       "  (conv4): Conv2d(8, 16, kernel_size=(3, 3), stride=(1, 1), padding=(1, 1))\n",
       "  (conv_bn_4): BatchNorm2d(32, eps=1e-05, momentum=0.1, affine=True, track_running_stats=True)\n",
       "  (pool): MaxPool2d(kernel_size=2, stride=2, padding=0, dilation=1, ceil_mode=False)\n",
       "  (act): ReLU()\n",
       "  (drop): Dropout2d(p=0.1, inplace=False)\n",
       "  (mlp): Sequential(\n",
       "    (0): Linear(in_features=4096, out_features=128, bias=True)\n",
       "    (1): ReLU()\n",
       "    (2): Dropout(p=0.3, inplace=False)\n",
       "    (3): Linear(in_features=128, out_features=5, bias=True)\n",
       "    (4): Softmax(dim=-1)\n",
       "  )\n",
       ")"
      ]
     },
     "execution_count": 149,
     "metadata": {},
     "output_type": "execute_result"
    }
   ],
   "source": [
    "cnn = BigNet()\n",
    "print(model_params(cnn))\n",
    "cnn.to(device)"
   ]
  },
  {
   "cell_type": "code",
   "execution_count": 152,
   "metadata": {
    "colab": {},
    "colab_type": "code",
    "id": "EgnCGsy8dqu1"
   },
   "outputs": [],
   "source": [
    "criterion = nn.CrossEntropyLoss()\n",
    "optimizer = optim.SGD(cnn.parameters(), lr=0.1, momentum = 0.2)\n",
    "scheduler = optim.lr_scheduler.StepLR(optimizer, step_size = 25, gamma = 0.1)\n",
    "epochs = 50\n",
    "steps = 0\n",
    "running_loss = 0\n",
    "train_losses = []\n",
    "test_losses = []\n",
    "print_every = 3"
   ]
  },
  {
   "cell_type": "code",
   "execution_count": 153,
   "metadata": {
    "colab": {
     "base_uri": "https://localhost:8080/",
     "height": 1000
    },
    "colab_type": "code",
    "id": "OD0k1gPAdqu4",
    "outputId": "f1a57f7d-376f-46b5-e9fb-cc2899af937c"
   },
   "outputs": [
    {
     "ename": "RuntimeError",
     "evalue": "running_mean should contain 2 elements not 4",
     "output_type": "error",
     "traceback": [
      "\u001b[0;31m---------------------------------------------------------------------------\u001b[0m",
      "\u001b[0;31mRuntimeError\u001b[0m                              Traceback (most recent call last)",
      "\u001b[0;32m<ipython-input-153-06bd785ee3e6>\u001b[0m in \u001b[0;36m<module>\u001b[0;34m\u001b[0m\n\u001b[1;32m      7\u001b[0m         \u001b[0minputs\u001b[0m \u001b[0;34m=\u001b[0m \u001b[0minputs\u001b[0m\u001b[0;34m.\u001b[0m\u001b[0munsqueeze\u001b[0m\u001b[0;34m(\u001b[0m\u001b[0mdim\u001b[0m\u001b[0;34m=\u001b[0m\u001b[0;36m1\u001b[0m\u001b[0;34m)\u001b[0m\u001b[0;34m\u001b[0m\u001b[0;34m\u001b[0m\u001b[0m\n\u001b[1;32m      8\u001b[0m         \u001b[0moptimizer\u001b[0m\u001b[0;34m.\u001b[0m\u001b[0mzero_grad\u001b[0m\u001b[0;34m(\u001b[0m\u001b[0;34m)\u001b[0m\u001b[0;34m\u001b[0m\u001b[0;34m\u001b[0m\u001b[0m\n\u001b[0;32m----> 9\u001b[0;31m         \u001b[0mlogps\u001b[0m \u001b[0;34m=\u001b[0m \u001b[0mcnn\u001b[0m\u001b[0;34m.\u001b[0m\u001b[0mforward\u001b[0m\u001b[0;34m(\u001b[0m\u001b[0minputs\u001b[0m\u001b[0;34m)\u001b[0m\u001b[0;34m\u001b[0m\u001b[0;34m\u001b[0m\u001b[0m\n\u001b[0m\u001b[1;32m     10\u001b[0m         \u001b[0mloss\u001b[0m \u001b[0;34m=\u001b[0m \u001b[0mcriterion\u001b[0m\u001b[0;34m(\u001b[0m\u001b[0mlogps\u001b[0m\u001b[0;34m,\u001b[0m \u001b[0mlabels\u001b[0m\u001b[0;34m)\u001b[0m\u001b[0;34m\u001b[0m\u001b[0;34m\u001b[0m\u001b[0m\n\u001b[1;32m     11\u001b[0m         \u001b[0mloss\u001b[0m\u001b[0;34m.\u001b[0m\u001b[0mbackward\u001b[0m\u001b[0;34m(\u001b[0m\u001b[0;34m)\u001b[0m\u001b[0;34m\u001b[0m\u001b[0;34m\u001b[0m\u001b[0m\n",
      "\u001b[0;32m<ipython-input-147-6b4dcf74bf78>\u001b[0m in \u001b[0;36mforward\u001b[0;34m(self, x)\u001b[0m\n\u001b[1;32m     27\u001b[0m \u001b[0;34m\u001b[0m\u001b[0m\n\u001b[1;32m     28\u001b[0m   \u001b[0;32mdef\u001b[0m \u001b[0mforward\u001b[0m\u001b[0;34m(\u001b[0m\u001b[0mself\u001b[0m\u001b[0;34m,\u001b[0m \u001b[0mx\u001b[0m\u001b[0;34m)\u001b[0m\u001b[0;34m:\u001b[0m\u001b[0;34m\u001b[0m\u001b[0;34m\u001b[0m\u001b[0m\n\u001b[0;32m---> 29\u001b[0;31m     \u001b[0mx\u001b[0m \u001b[0;34m=\u001b[0m \u001b[0mself\u001b[0m\u001b[0;34m.\u001b[0m\u001b[0mconv_bn_1\u001b[0m\u001b[0;34m(\u001b[0m\u001b[0mself\u001b[0m\u001b[0;34m.\u001b[0m\u001b[0mconv1\u001b[0m\u001b[0;34m(\u001b[0m\u001b[0mx\u001b[0m\u001b[0;34m)\u001b[0m\u001b[0;34m)\u001b[0m\u001b[0;34m\u001b[0m\u001b[0;34m\u001b[0m\u001b[0m\n\u001b[0m\u001b[1;32m     30\u001b[0m     \u001b[0mx\u001b[0m \u001b[0;34m=\u001b[0m \u001b[0mself\u001b[0m\u001b[0;34m.\u001b[0m\u001b[0mpool\u001b[0m\u001b[0;34m(\u001b[0m\u001b[0mself\u001b[0m\u001b[0;34m.\u001b[0m\u001b[0mact\u001b[0m\u001b[0;34m(\u001b[0m\u001b[0mx\u001b[0m\u001b[0;34m)\u001b[0m\u001b[0;34m)\u001b[0m\u001b[0;34m\u001b[0m\u001b[0;34m\u001b[0m\u001b[0m\n\u001b[1;32m     31\u001b[0m     \u001b[0mx\u001b[0m \u001b[0;34m=\u001b[0m \u001b[0mself\u001b[0m\u001b[0;34m.\u001b[0m\u001b[0mdrop\u001b[0m\u001b[0;34m(\u001b[0m\u001b[0mx\u001b[0m\u001b[0;34m)\u001b[0m\u001b[0;34m\u001b[0m\u001b[0;34m\u001b[0m\u001b[0m\n",
      "\u001b[0;32m/Library/Frameworks/Python.framework/Versions/3.7/lib/python3.7/site-packages/torch/nn/modules/module.py\u001b[0m in \u001b[0;36m__call__\u001b[0;34m(self, *input, **kwargs)\u001b[0m\n\u001b[1;32m    530\u001b[0m             \u001b[0mresult\u001b[0m \u001b[0;34m=\u001b[0m \u001b[0mself\u001b[0m\u001b[0;34m.\u001b[0m\u001b[0m_slow_forward\u001b[0m\u001b[0;34m(\u001b[0m\u001b[0;34m*\u001b[0m\u001b[0minput\u001b[0m\u001b[0;34m,\u001b[0m \u001b[0;34m**\u001b[0m\u001b[0mkwargs\u001b[0m\u001b[0;34m)\u001b[0m\u001b[0;34m\u001b[0m\u001b[0;34m\u001b[0m\u001b[0m\n\u001b[1;32m    531\u001b[0m         \u001b[0;32melse\u001b[0m\u001b[0;34m:\u001b[0m\u001b[0;34m\u001b[0m\u001b[0;34m\u001b[0m\u001b[0m\n\u001b[0;32m--> 532\u001b[0;31m             \u001b[0mresult\u001b[0m \u001b[0;34m=\u001b[0m \u001b[0mself\u001b[0m\u001b[0;34m.\u001b[0m\u001b[0mforward\u001b[0m\u001b[0;34m(\u001b[0m\u001b[0;34m*\u001b[0m\u001b[0minput\u001b[0m\u001b[0;34m,\u001b[0m \u001b[0;34m**\u001b[0m\u001b[0mkwargs\u001b[0m\u001b[0;34m)\u001b[0m\u001b[0;34m\u001b[0m\u001b[0;34m\u001b[0m\u001b[0m\n\u001b[0m\u001b[1;32m    533\u001b[0m         \u001b[0;32mfor\u001b[0m \u001b[0mhook\u001b[0m \u001b[0;32min\u001b[0m \u001b[0mself\u001b[0m\u001b[0;34m.\u001b[0m\u001b[0m_forward_hooks\u001b[0m\u001b[0;34m.\u001b[0m\u001b[0mvalues\u001b[0m\u001b[0;34m(\u001b[0m\u001b[0;34m)\u001b[0m\u001b[0;34m:\u001b[0m\u001b[0;34m\u001b[0m\u001b[0;34m\u001b[0m\u001b[0m\n\u001b[1;32m    534\u001b[0m             \u001b[0mhook_result\u001b[0m \u001b[0;34m=\u001b[0m \u001b[0mhook\u001b[0m\u001b[0;34m(\u001b[0m\u001b[0mself\u001b[0m\u001b[0;34m,\u001b[0m \u001b[0minput\u001b[0m\u001b[0;34m,\u001b[0m \u001b[0mresult\u001b[0m\u001b[0;34m)\u001b[0m\u001b[0;34m\u001b[0m\u001b[0;34m\u001b[0m\u001b[0m\n",
      "\u001b[0;32m/Library/Frameworks/Python.framework/Versions/3.7/lib/python3.7/site-packages/torch/nn/modules/batchnorm.py\u001b[0m in \u001b[0;36mforward\u001b[0;34m(self, input)\u001b[0m\n\u001b[1;32m    105\u001b[0m             \u001b[0minput\u001b[0m\u001b[0;34m,\u001b[0m \u001b[0mself\u001b[0m\u001b[0;34m.\u001b[0m\u001b[0mrunning_mean\u001b[0m\u001b[0;34m,\u001b[0m \u001b[0mself\u001b[0m\u001b[0;34m.\u001b[0m\u001b[0mrunning_var\u001b[0m\u001b[0;34m,\u001b[0m \u001b[0mself\u001b[0m\u001b[0;34m.\u001b[0m\u001b[0mweight\u001b[0m\u001b[0;34m,\u001b[0m \u001b[0mself\u001b[0m\u001b[0;34m.\u001b[0m\u001b[0mbias\u001b[0m\u001b[0;34m,\u001b[0m\u001b[0;34m\u001b[0m\u001b[0;34m\u001b[0m\u001b[0m\n\u001b[1;32m    106\u001b[0m             \u001b[0mself\u001b[0m\u001b[0;34m.\u001b[0m\u001b[0mtraining\u001b[0m \u001b[0;32mor\u001b[0m \u001b[0;32mnot\u001b[0m \u001b[0mself\u001b[0m\u001b[0;34m.\u001b[0m\u001b[0mtrack_running_stats\u001b[0m\u001b[0;34m,\u001b[0m\u001b[0;34m\u001b[0m\u001b[0;34m\u001b[0m\u001b[0m\n\u001b[0;32m--> 107\u001b[0;31m             exponential_average_factor, self.eps)\n\u001b[0m\u001b[1;32m    108\u001b[0m \u001b[0;34m\u001b[0m\u001b[0m\n\u001b[1;32m    109\u001b[0m \u001b[0;34m\u001b[0m\u001b[0m\n",
      "\u001b[0;32m/Library/Frameworks/Python.framework/Versions/3.7/lib/python3.7/site-packages/torch/nn/functional.py\u001b[0m in \u001b[0;36mbatch_norm\u001b[0;34m(input, running_mean, running_var, weight, bias, training, momentum, eps)\u001b[0m\n\u001b[1;32m   1668\u001b[0m     return torch.batch_norm(\n\u001b[1;32m   1669\u001b[0m         \u001b[0minput\u001b[0m\u001b[0;34m,\u001b[0m \u001b[0mweight\u001b[0m\u001b[0;34m,\u001b[0m \u001b[0mbias\u001b[0m\u001b[0;34m,\u001b[0m \u001b[0mrunning_mean\u001b[0m\u001b[0;34m,\u001b[0m \u001b[0mrunning_var\u001b[0m\u001b[0;34m,\u001b[0m\u001b[0;34m\u001b[0m\u001b[0;34m\u001b[0m\u001b[0m\n\u001b[0;32m-> 1670\u001b[0;31m         \u001b[0mtraining\u001b[0m\u001b[0;34m,\u001b[0m \u001b[0mmomentum\u001b[0m\u001b[0;34m,\u001b[0m \u001b[0meps\u001b[0m\u001b[0;34m,\u001b[0m \u001b[0mtorch\u001b[0m\u001b[0;34m.\u001b[0m\u001b[0mbackends\u001b[0m\u001b[0;34m.\u001b[0m\u001b[0mcudnn\u001b[0m\u001b[0;34m.\u001b[0m\u001b[0menabled\u001b[0m\u001b[0;34m\u001b[0m\u001b[0;34m\u001b[0m\u001b[0m\n\u001b[0m\u001b[1;32m   1671\u001b[0m     )\n\u001b[1;32m   1672\u001b[0m \u001b[0;34m\u001b[0m\u001b[0m\n",
      "\u001b[0;31mRuntimeError\u001b[0m: running_mean should contain 2 elements not 4"
     ]
    }
   ],
   "source": [
    "for epoch in range(epochs):\n",
    "    for inputs, labels in trainloader:\n",
    "        accuracy_train = 0\n",
    "        steps += 1\n",
    "        inputs, labels = inputs.to(device), labels.to(device)\n",
    "        inputs = inputs[:,0,:,:]\n",
    "        inputs = inputs.unsqueeze(dim=1)\n",
    "        optimizer.zero_grad()\n",
    "        logps = cnn.forward(inputs)\n",
    "        loss = criterion(logps, labels)\n",
    "        loss.backward()\n",
    "        optimizer.step()\n",
    "        running_loss += loss.item()\n",
    "        \n",
    "        batch_loss = criterion(logps, labels)\n",
    "        test_loss += batch_loss.item()\n",
    "                    \n",
    "        #ps = torch.exp(logps)\n",
    "        top_p, top_class = logps.topk(1, dim=1)\n",
    "        #print(top_class[1:10], logps[1:10])\n",
    "        equals = top_class == labels.view(*top_class.shape)\n",
    "        accuracy_train += torch.mean(equals.type(torch.FloatTensor)).item()\n",
    "        \n",
    "        if steps % print_every == 0:\n",
    "            test_loss = 0\n",
    "            accuracy = 0\n",
    "            cnn.eval()\n",
    "            with torch.no_grad():\n",
    "                for inputs_val, labels_val in validloader:\n",
    "                    #print(labels[0])\n",
    "                    inputs_val, labels_val = inputs_val.to(device), labels_val.to(device)\n",
    "                    \n",
    "                    inputs_val = inputs_val[:,0,:,:]\n",
    "                    inputs_val = inputs_val.unsqueeze(dim=1)\n",
    "                    \n",
    "                    logps = cnn.forward(inputs_val)\n",
    "\n",
    "                    batch_loss = criterion(logps, labels_val)\n",
    "                    test_loss += batch_loss.item()\n",
    "                    \n",
    "                    #ps = torch.exp(logps)\n",
    "                    top_p, top_class = logps.topk(1, dim=1)\n",
    "                    #print(top_class[1:10], logps[1:10])\n",
    "                    equals = top_class == labels_val.view(*top_class.shape)\n",
    "                    accuracy += torch.mean(equals.type(torch.FloatTensor)).item()\n",
    "            train_losses.append(running_loss/len(trainloader))\n",
    "            test_losses.append(test_loss/len(validloader))                    \n",
    "            \n",
    "            print(f\"Epoch {epoch+1}/{epochs}.. \"\n",
    "                  f\"Train loss: {running_loss/print_every:.3f}.. \"\n",
    "                  f\"Train accuracy:{accuracy_train:.3f}.. \"\n",
    "                  f\"Test loss: {test_loss/len(validloader):.3f}.. \"\n",
    "                  f\"Test accuracy: {accuracy/len(validloader):.3f}\")\n",
    "                \n",
    "            running_loss = 0\n",
    "            cnn.train()\n",
    "\n",
    "\n",
    "torch.save(cnn, 'cnn_finger.pth')"
   ]
  },
  {
   "cell_type": "code",
   "execution_count": null,
   "metadata": {
    "colab": {
     "base_uri": "https://localhost:8080/",
     "height": 51
    },
    "colab_type": "code",
    "id": "U0ZlHjqGdqu6",
    "outputId": "3e92047d-728e-49c6-b52d-27d7a5f1ce78"
   },
   "outputs": [],
   "source": [
    "print(cnn.forward(inputs_val)[40], labels_val[40])"
   ]
  },
  {
   "cell_type": "code",
   "execution_count": 135,
   "metadata": {
    "colab": {
     "base_uri": "https://localhost:8080/",
     "height": 286
    },
    "colab_type": "code",
    "id": "k4D1sE3p22Aw",
    "outputId": "9a14cf83-213d-42c9-c06a-f8d08f5790d7"
   },
   "outputs": [
    {
     "data": {
      "text/plain": [
       "<matplotlib.image.AxesImage at 0x145212ad0>"
      ]
     },
     "execution_count": 135,
     "metadata": {},
     "output_type": "execute_result"
    },
    {
     "data": {
      "image/png": "[encoded data removed]",
      "text/plain": [
       "<Figure size 432x288 with 1 Axes>"
      ]
     },
     "metadata": {
      "needs_background": "light"
     },
     "output_type": "display_data"
    }
   ],
   "source": [
    "plt.imshow((inputs_val)[40][0,:,:].cpu())"
   ]
  },
  {
   "cell_type": "code",
   "execution_count": 0,
   "metadata": {
    "colab": {},
    "colab_type": "code",
    "id": "--rNXDwLdqu8"
   },
   "outputs": [],
   "source": []
  },
  {
   "cell_type": "code",
   "execution_count": 36,
   "metadata": {
    "colab": {
     "base_uri": "https://localhost:8080/",
     "height": 268
    },
    "colab_type": "code",
    "id": "Bav11djfdqu_",
    "outputId": "ce8aacfb-b691-4648-ecc3-7fa00e8091fa"
   },
   "outputs": [
    {
     "data": {
      "image/png": "[encoded data removed]",
      "text/plain": [
       "<Figure size 432x288 with 1 Axes>"
      ]
     },
     "metadata": {
      "needs_background": "light",
      "tags": []
     },
     "output_type": "display_data"
    }
   ],
   "source": [
    "plt.plot(train_losses, label='Training loss')\n",
    "#plt.plot(test_losses, label='Validation loss')\n",
    "plt.legend(frameon=False)\n",
    "plt.show()"
   ]
  },
  {
   "cell_type": "code",
   "execution_count": 0,
   "metadata": {
    "colab": {},
    "colab_type": "code",
    "id": "JIVbMcCeLZCG"
   },
   "outputs": [],
   "source": []
  }
 ],
 "metadata": {
  "accelerator": "GPU",
  "colab": {
   "collapsed_sections": [],
   "name": "CNN.ipynb",
   "provenance": []
  },
  "kernelspec": {
   "display_name": "Python 3",
   "language": "python",
   "name": "python3"
  },
  "language_info": {
   "codemirror_mode": {
    "name": "ipython",
    "version": 3
   },
   "file_extension": ".py",
   "mimetype": "text/x-python",
   "name": "python",
   "nbconvert_exporter": "python",
   "pygments_lexer": "ipython3",
   "version": "3.7.4"
  }
 },
 "nbformat": 4,
 "nbformat_minor": 1
}
