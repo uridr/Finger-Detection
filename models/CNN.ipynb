{
 "cells": [
  {
   "cell_type": "code",
   "execution_count": 11,
   "metadata": {
    "colab": {},
    "colab_type": "code",
    "id": "y9Jd1wSedquf"
   },
   "outputs": [],
   "source": [
    "import numpy as np\n",
    "import torch\n",
    "import torch.optim as optim\n",
    "\n",
    "import cv2\n",
    "import scipy.ndimage\n",
    "import os\n",
    "\n",
    "import torch.nn as nn\n",
    "import torch.nn.functional as F\n",
    "import torchvision.datasets\n",
    "from torchvision import transforms\n",
    "import torch.utils.data as data\n",
    "\n",
    "from timeit import default_timer as timer\n",
    "import random\n",
    "from random import shuffle\n",
    "\n",
    "import matplotlib.pyplot as plt  \n",
    "%matplotlib inline\n",
    "\n",
    "import import_ipynb\n",
    "import data_augmentation\n",
    "import scipy.ndimage\n",
    "\n",
    "from PIL import Image"
   ]
  },
  {
   "cell_type": "code",
   "execution_count": 12,
   "metadata": {
    "colab": {},
    "colab_type": "code",
    "id": "UVgHFU8NoM7W"
   },
   "outputs": [],
   "source": [
    "def load_images_from_folder(folder):\n",
    "    images = {}\n",
    "    for filename in os.listdir(folder):\n",
    "        if filename == '.DS_Store':\n",
    "          print(filename)\n",
    "        else:\n",
    "          img = cv2.imread(os.path.join(folder,filename))\n",
    "        if img is not None:\n",
    "            images[filename.split('.')[0]] = img  #remove extension from file name\n",
    "    return images"
   ]
  },
  {
   "cell_type": "code",
   "execution_count": 13,
   "metadata": {
    "colab": {
     "base_uri": "https://localhost:8080/",
     "height": 34
    },
    "colab_type": "code",
    "id": "jaDm_X1IhoD5",
    "outputId": "cdf7ee69-2413-4920-8b4d-b4f23c4d2423"
   },
   "outputs": [
    {
     "name": "stdout",
     "output_type": "stream",
     "text": [
      "cpu\n"
     ]
    }
   ],
   "source": [
    "device = torch.device(\"cuda:0\" if torch.cuda.is_available() else \"cpu\")\n",
    "print(device)"
   ]
  },
  {
   "cell_type": "code",
   "execution_count": 14,
   "metadata": {
    "colab": {
     "base_uri": "https://localhost:8080/",
     "height": 85
    },
    "colab_type": "code",
    "id": "h9i0ugnWoZyC",
    "outputId": "dac6440d-528b-48b3-9992-76f05806ac3d"
   },
   "outputs": [
    {
     "name": "stdout",
     "output_type": "stream",
     "text": [
      ".DS_Store\n",
      ".DS_Store\n",
      ".DS_Store\n",
      ".DS_Store\n",
      ".DS_Store\n"
     ]
    }
   ],
   "source": [
    "train_data_1 = load_images_from_folder(\"../data/Training-Dataset/Resize-Augmented-Masks/1/\")\n",
    "train_data_2 = load_images_from_folder(\"../data/Training-Dataset/Resize-Augmented-Masks/2/\")\n",
    "train_data_3 = load_images_from_folder(\"../data/Training-Dataset/Resize-Augmented-Masks/3/\")\n",
    "train_data_4 = load_images_from_folder(\"../data/Training-Dataset/Resize-Augmented-Masks/4/\")\n",
    "train_data_5 = load_images_from_folder(\"../data/Training-Dataset/Resize-Augmented-Masks/5/\")"
   ]
  },
  {
   "cell_type": "code",
   "execution_count": 15,
   "metadata": {
    "colab": {},
    "colab_type": "code",
    "id": "gMoKtsb3ubgt"
   },
   "outputs": [
    {
     "name": "stdout",
     "output_type": "stream",
     "text": [
      ".DS_Store\n",
      ".DS_Store\n",
      ".DS_Store\n",
      ".DS_Store\n",
      ".DS_Store\n"
     ]
    }
   ],
   "source": [
    "test_data_1 = load_images_from_folder(\"../data/Validation-Dataset/Resize-Augmented-Predicted-Masks/1/\")\n",
    "test_data_2 = load_images_from_folder(\"../data/Validation-Dataset/Resize-Augmented-Predicted-Masks/2/\")\n",
    "test_data_3 = load_images_from_folder(\"../data/Validation-Dataset/Resize-Augmented-Predicted-Masks/3/\")\n",
    "test_data_4 = load_images_from_folder(\"../data/Validation-Dataset/Resize-Augmented-Predicted-Masks/4/\")\n",
    "test_data_5 = load_images_from_folder(\"../data/Validation-Dataset/Resize-Augmented-Predicted-Masks/5/\")"
   ]
  },
  {
   "cell_type": "code",
   "execution_count": 16,
   "metadata": {},
   "outputs": [],
   "source": [
    "def labeledImages(images): \n",
    "    return [int(key[0])-1 for key in images.keys()]"
   ]
  },
  {
   "cell_type": "code",
   "execution_count": null,
   "metadata": {
    "colab": {
     "base_uri": "https://localhost:8080/",
     "height": 187
    },
    "colab_type": "code",
    "id": "PAoJjBAHsWYO",
    "outputId": "3efea2ad-cfa7-4f66-8bbc-1485cfef1a01"
   },
   "outputs": [
    {
     "name": "stdout",
     "output_type": "stream",
     "text": [
      "augmenting\n",
      "resizing\n",
      "augmenting\n"
     ]
    }
   ],
   "source": [
    "aug1, lab1 = data_augmentation.extensiveDataAugmentation(train_data_1, 1)\n",
    "aug2, lab2 = data_augmentation.extensiveDataAugmentation(train_data_2, 2)\n",
    "aug3, lab3 = data_augmentation.extensiveDataAugmentation(train_data_3, 3)\n",
    "aug4, lab4 = data_augmentation.extensiveDataAugmentation(train_data_4, 4)\n",
    "aug5, lab5 = data_augmentation.extensiveDataAugmentation(train_data_5, 5)"
   ]
  },
  {
   "cell_type": "code",
   "execution_count": null,
   "metadata": {},
   "outputs": [],
   "source": [
    "aug1_val, lab1_val = data_augmentation.extensiveDataAugmentation(test_data_1, 1, augment=False)\n",
    "aug2_val, lab2_val = data_augmentation.extensiveDataAugmentation(test_data_2, 2, augment=False)\n",
    "aug3_val, lab3_val = data_augmentation.extensiveDataAugmentation(test_data_3, 3, augment=False)\n",
    "aug4_val, lab4_val = data_augmentation.extensiveDataAugmentation(test_data_4, 4, augment=False)\n",
    "aug5_val, lab5_val = data_augmentation.extensiveDataAugmentation(test_data_5, 5, augment=False)"
   ]
  },
  {
   "cell_type": "code",
   "execution_count": null,
   "metadata": {},
   "outputs": [],
   "source": [
    "aug1_val_id, lab1_val_id = data_augmentation.extensiveDataAugmentation(test_data_1_id, 1, augment=False)\n",
    "aug2_val_id, lab2_val_id = data_augmentation.extensiveDataAugmentation(test_data_2_id, 2, augment=False)\n",
    "aug3_val_id, lab3_val_id = data_augmentation.extensiveDataAugmentation(test_data_3_id, 3, augment=False)\n",
    "aug4_val_id, lab4_val_id = data_augmentation.extensiveDataAugmentation(test_data_4_id, 4, augment=False)\n",
    "aug5_val_id, lab5_val_id = data_augmentation.extensiveDataAugmentation(test_data_5_id, 5, augment=False)"
   ]
  },
  {
   "cell_type": "code",
   "execution_count": null,
   "metadata": {
    "colab": {},
    "colab_type": "code",
    "id": "Wm-PQVHzxMKo"
   },
   "outputs": [],
   "source": [
    "aug = np.concatenate((aug1,aug2,aug3,aug4,aug5))\n",
    "labels = np.concatenate((lab1,lab2,lab3,lab4,lab5))"
   ]
  },
  {
   "cell_type": "code",
   "execution_count": null,
   "metadata": {
    "colab": {},
    "colab_type": "code",
    "id": "-ovMYwkk06iu"
   },
   "outputs": [],
   "source": [
    "aug_val = np.concatenate((aug1_val,aug2_val,aug3_val,aug4_val,aug5_val))\n",
    "labels_val = np.concatenate((lab1_val,lab2_val,lab3_val,lab4_val,lab5_val))"
   ]
  },
  {
   "cell_type": "code",
   "execution_count": null,
   "metadata": {},
   "outputs": [],
   "source": [
    "aug_val_id = np.concatenate((aug1_val_id,aug2_val_id,aug3_val_id,aug4_val_id,aug5_val_id))\n",
    "labels_val_id = np.concatenate((lab1_val_id,lab2_val_id,lab3_val_id,lab4_val_id,lab5_val_id))"
   ]
  },
  {
   "cell_type": "code",
   "execution_count": null,
   "metadata": {
    "colab": {
     "base_uri": "https://localhost:8080/",
     "height": 34
    },
    "colab_type": "code",
    "id": "XH3xl71hGgAP",
    "outputId": "08914a0e-e85f-4d76-c2a7-0c9ebb70ebf2"
   },
   "outputs": [],
   "source": [
    "np.unique(aug1[4,:,:,0])"
   ]
  },
  {
   "cell_type": "code",
   "execution_count": null,
   "metadata": {
    "colab": {
     "base_uri": "https://localhost:8080/",
     "height": 136
    },
    "colab_type": "code",
    "id": "eR1trX0CXLqV",
    "outputId": "25668bb3-ca3c-4936-8028-5587c36d894b"
   },
   "outputs": [],
   "source": [
    "aug[0,:,:,0] == 1"
   ]
  },
  {
   "cell_type": "code",
   "execution_count": null,
   "metadata": {
    "colab": {
     "base_uri": "https://localhost:8080/",
     "height": 164
    },
    "colab_type": "code",
    "id": "e4gfGBCNFeuK",
    "outputId": "f1a77b7a-35a3-4ecf-be64-6818ab4d3d46"
   },
   "outputs": [],
   "source": [
    "plt.imshow(aug1[120,:,:,0])"
   ]
  },
  {
   "cell_type": "code",
   "execution_count": null,
   "metadata": {
    "colab": {},
    "colab_type": "code",
    "id": "zQNRFqo2kbn4"
   },
   "outputs": [],
   "source": [
    "tensor_x = torch.FloatTensor(aug_train)\n",
    "tensor_y = torch.LongTensor(labels_train)\n",
    "\n",
    "my_dataset = data.TensorDataset(tensor_x.permute(0,3,1,2),tensor_y) \n",
    "trainloader = data.DataLoader(my_dataset, batch_size=60, shuffle = True)\n"
   ]
  },
  {
   "cell_type": "code",
   "execution_count": null,
   "metadata": {
    "colab": {},
    "colab_type": "code",
    "id": "BLBwdgOg1OXs"
   },
   "outputs": [],
   "source": [
    "tensor_x_val = torch.FloatTensor(aug_test)\n",
    "tensor_y_val = torch.LongTensor(labels_test)\n",
    "\n",
    "my_dataset_val = data.TensorDataset(tensor_x_val.permute(0,3,1,2),tensor_y_val) \n",
    "validloader = data.DataLoader(my_dataset_val, batch_size=60, shuffle = True) \n"
   ]
  },
  {
   "cell_type": "code",
   "execution_count": null,
   "metadata": {},
   "outputs": [],
   "source": [
    "tensor_x_val_id = torch.FloatTensor(aug_val_id)\n",
    "tensor_y_val_id = torch.LongTensor(labels_val_id)\n",
    "\n",
    "my_dataset_val_id = data.TensorDataset(tensor_x_val_id.permute(0,3,1,2),tensor_y_val_id) \n",
    "validloader_id = data.DataLoader(my_dataset_val_id, batch_size=60, shuffle = True) "
   ]
  },
  {
   "cell_type": "code",
   "execution_count": null,
   "metadata": {
    "colab": {
     "base_uri": "https://localhost:8080/",
     "height": 68
    },
    "colab_type": "code",
    "id": "jC35Yh6vdquo",
    "outputId": "2845364d-906f-43c7-99ea-b60f5286d4fc"
   },
   "outputs": [],
   "source": [
    "iter_ = iter(trainloader)\n",
    "bimg, blabel = next(iter_)\n",
    "\n",
    "print('Batch Label shape: ', blabel.shape)\n",
    "print('The Batched tensors return a collection of {} RGB images ({} channel, {} height pixels, {} width pixels)'.format(bimg.shape[0],\n",
    "                                                                                                                        bimg.shape[1],\n",
    "                                                                                                                       bimg.shape[2],\n",
    "                                                                                                                        bimg.shape[3]))\n",
    "print('In the case of the labels, we obtain {} batched integers, one per image'.format(blabel.shape[0]))"
   ]
  },
  {
   "cell_type": "code",
   "execution_count": null,
   "metadata": {
    "colab": {},
    "colab_type": "code",
    "id": "rbKy9kY9dqut"
   },
   "outputs": [],
   "source": [
    "class BigNet(nn.Module):\n",
    "  \n",
    "  def __init__(self):\n",
    "    super().__init__()\n",
    "    \n",
    "    self.conv1 = nn.Conv2d(1, 4 , 3, 1, padding=1)\n",
    "    self.conv_bn_1 = nn.BatchNorm2d(4)\n",
    "    self.conv2 = nn.Conv2d(4, 8, 3, 1, padding=1)\n",
    "    self.conv_bn_2 = nn.BatchNorm2d(8)    \n",
    "    self.conv3 = nn.Conv2d(8, 16 , 3, 1, padding=1)\n",
    "    self.conv_bn_3 = nn.BatchNorm2d(16)\n",
    "    self.conv4 = nn.Conv2d(16, 32 , 3, 1, padding=1)\n",
    "    self.conv_bn_4 = nn.BatchNorm2d(32)\n",
    "\n",
    "    self.pool  = nn.MaxPool2d(2,2)\n",
    "    self.act   = nn.ReLU(inplace=False)\n",
    "    self.drop = nn.Dropout2d(0.1)    \n",
    "    \n",
    "    self.mlp = nn.Sequential(\n",
    "        nn.Linear(16 * 16 * 32, 128),\n",
    "        nn.ReLU(),\n",
    "        nn.Dropout(0.8),\n",
    "        nn.Linear(128,5),        \n",
    "        nn.Softmax(dim=-1)    \n",
    "    )\n",
    " \n",
    "    \n",
    "  def forward(self, x):\n",
    "    x = self.conv_bn_1(self.conv1(x))\n",
    "    x = self.pool(self.act(x))\n",
    "    x = self.drop(x)\n",
    "\n",
    "    x = self.conv_bn_2(self.conv2(x))\n",
    "    x = self.pool(self.act(x))\n",
    "    x = self.drop(x)\n",
    "\n",
    "    x = self.conv_bn_3(self.conv3(x))\n",
    "    x = self.pool(self.act(x))\n",
    "    x = self.drop(x)\n",
    "\n",
    "    x = self.conv_bn_4(self.conv4(x))\n",
    "    x = self.pool(self.act(x))\n",
    "    x = self.drop(x)\n",
    "\n",
    "    bsz, nch, height, width = x.shape\n",
    "    x = x.view(bsz, -1)\n",
    "    \n",
    "    y = self.mlp(x)\n",
    "\n",
    "    return y"
   ]
  },
  {
   "cell_type": "code",
   "execution_count": null,
   "metadata": {
    "colab": {},
    "colab_type": "code",
    "id": "rzIP-8R8dqux"
   },
   "outputs": [],
   "source": [
    "def model_params(model):\n",
    "    # from: https://discuss.pytorch.org/t/how-do-i-check-the-number-of-parameters-of-a-model/4325/6\n",
    "    pp=0\n",
    "    for p in list(model.parameters()):\n",
    "        nn=1\n",
    "        for s in list(p.size()):\n",
    "            nn = nn*s\n",
    "        pp += nn\n",
    "    return pp"
   ]
  },
  {
   "cell_type": "code",
   "execution_count": null,
   "metadata": {
    "colab": {
     "base_uri": "https://localhost:8080/",
     "height": 374
    },
    "colab_type": "code",
    "id": "Ljx2aPr4dquz",
    "outputId": "e2574010-3b5f-40c5-a182-1321bf0d7840"
   },
   "outputs": [],
   "source": [
    "cnn = BigNet()\n",
    "print(model_params(cnn))\n",
    "cnn.to(device)"
   ]
  },
  {
   "cell_type": "code",
   "execution_count": null,
   "metadata": {
    "colab": {},
    "colab_type": "code",
    "id": "EgnCGsy8dqu1"
   },
   "outputs": [],
   "source": [
    "criterion = nn.CrossEntropyLoss()\n",
    "optimizer = optim.SGD(cnn.parameters(), lr=0.1, momentum = 0.2)\n",
    "scheduler = optim.lr_scheduler.StepLR(optimizer, step_size = 25, gamma = 0.1)\n",
    "epochs = 50\n",
    "steps = 0\n",
    "running_loss = 0\n",
    "train_losses = []\n",
    "test_losses = []\n",
    "print_every = 3"
   ]
  },
  {
   "cell_type": "code",
   "execution_count": null,
   "metadata": {
    "colab": {
     "base_uri": "https://localhost:8080/",
     "height": 1000
    },
    "colab_type": "code",
    "id": "OD0k1gPAdqu4",
    "outputId": "f1a57f7d-376f-46b5-e9fb-cc2899af937c"
   },
   "outputs": [],
   "source": [
    "for epoch in range(epochs):\n",
    "    for inputs, labels in trainloader:\n",
    "        accuracy_train = 0\n",
    "        steps += 1\n",
    "        inputs, labels = inputs.to(device), labels.to(device)\n",
    "        inputs = inputs[:,0,:,:]\n",
    "        inputs = inputs.unsqueeze(dim=1)\n",
    "        optimizer.zero_grad()\n",
    "        logps = cnn.forward(inputs)\n",
    "        loss = criterion(logps, labels)\n",
    "        loss.backward()\n",
    "        optimizer.step()\n",
    "        running_loss += loss.item()\n",
    "        \n",
    "        batch_loss = criterion(logps, labels)\n",
    "        test_loss += batch_loss.item()\n",
    "                    \n",
    "        #ps = torch.exp(logps)\n",
    "        top_p, top_class = logps.topk(1, dim=1)\n",
    "        #print(top_class[1:10], logps[1:10])\n",
    "        equals = top_class == labels.view(*top_class.shape)\n",
    "        accuracy_train += torch.mean(equals.type(torch.FloatTensor)).item()\n",
    "        \n",
    "        if steps % print_every == 0:\n",
    "            test_loss = 0\n",
    "            accuracy = 0\n",
    "            cnn.eval()\n",
    "            with torch.no_grad():\n",
    "                for inputs_val, labels_val in validloader:\n",
    "                    #print(labels[0])\n",
    "                    inputs_val, labels_val = inputs_val.to(device), labels_val.to(device)\n",
    "                    \n",
    "                    inputs_val = inputs_val[:,0,:,:]\n",
    "                    inputs_val = inputs_val.unsqueeze(dim=1)\n",
    "                    \n",
    "                    logps = cnn.forward(inputs_val)\n",
    "\n",
    "                    batch_loss = criterion(logps, labels_val)\n",
    "                    test_loss += batch_loss.item()\n",
    "                    \n",
    "                    #ps = torch.exp(logps)\n",
    "                    top_p, top_class = logps.topk(1, dim=1)\n",
    "                    #print(top_class[1:10], logps[1:10])\n",
    "                    equals = top_class == labels_val.view(*top_class.shape)\n",
    "                    accuracy += torch.mean(equals.type(torch.FloatTensor)).item()\n",
    "            train_losses.append(running_loss/len(trainloader))\n",
    "            test_losses.append(test_loss/len(validloader))                    \n",
    "            \n",
    "            print(f\"Epoch {epoch+1}/{epochs}.. \"\n",
    "                  f\"Train loss: {running_loss/print_every:.3f}.. \"\n",
    "                  f\"Train accuracy:{accuracy_train:.3f}.. \"\n",
    "                  f\"Test loss: {test_loss/len(validloader):.3f}.. \"\n",
    "                  f\"Test accuracy: {accuracy/len(validloader):.3f}\")\n",
    "                \n",
    "            running_loss = 0\n",
    "            cnn.train()\n",
    "\n",
    "\n",
    "torch.save(cnn, 'cnn_finger.pth')"
   ]
  },
  {
   "cell_type": "code",
   "execution_count": null,
   "metadata": {
    "colab": {
     "base_uri": "https://localhost:8080/",
     "height": 268
    },
    "colab_type": "code",
    "id": "Bav11djfdqu_",
    "outputId": "ce8aacfb-b691-4648-ecc3-7fa00e8091fa"
   },
   "outputs": [],
   "source": [
    "plt.plot(train_losses, label='Training loss')\n",
    "plt.plot(test_losses, label='Validation loss')\n",
    "plt.legend(frameon=False)\n",
    "plt.show()"
   ]
  },
  {
   "cell_type": "code",
   "execution_count": null,
   "metadata": {
    "colab": {},
    "colab_type": "code",
    "id": "JIVbMcCeLZCG"
   },
   "outputs": [],
   "source": []
  }
 ],
 "metadata": {
  "accelerator": "GPU",
  "colab": {
   "collapsed_sections": [],
   "name": "CNN.ipynb",
   "provenance": []
  },
  "kernelspec": {
   "display_name": "Python 3",
   "language": "python",
   "name": "python3"
  },
  "language_info": {
   "codemirror_mode": {
    "name": "ipython",
    "version": 3
   },
   "file_extension": ".py",
   "mimetype": "text/x-python",
   "name": "python",
   "nbconvert_exporter": "python",
   "pygments_lexer": "ipython3",
   "version": "3.6.4"
  }
 },
 "nbformat": 4,
 "nbformat_minor": 1
}
