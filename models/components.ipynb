{
 "cells": [
  {
   "cell_type": "code",
   "execution_count": 3,
   "metadata": {},
   "outputs": [],
   "source": [
    "from skimage.morphology import reconstruction\n",
    "from skimage.morphology import opening\n",
    "\n",
    "from scipy import stats\n",
    "\n",
    "import matplotlib.pyplot as plt\n",
    "import numpy as np\n",
    "import cv2\n",
    "import os"
   ]
  },
  {
   "cell_type": "code",
   "execution_count": 4,
   "metadata": {},
   "outputs": [],
   "source": [
    "train_mask_path      = \"../data/Training-Dataset/Masks-Ideal/\"\n",
    "train_pred_mask_path = \"../data/Training-Dataset/Predicted-Masks/\"\n",
    "\n",
    "valid_mask_path      = \"../data/Validation-Dataset/Masks-Ideal/\"\n",
    "valid_pred_mask_path = \"../data/Validation-Dataset/Predicted-Masks/\""
   ]
  },
  {
   "cell_type": "code",
   "execution_count": 5,
   "metadata": {},
   "outputs": [],
   "source": [
    "def load_images_from_folder(folder):\n",
    "    images = {}\n",
    "    for filename in os.listdir(folder):\n",
    "        img = cv2.imread(os.path.join(folder,filename))\n",
    "        if img is not None:\n",
    "            images[filename.split('.')[0]] = img  #remove extension from file name\n",
    "    return images"
   ]
  },
  {
   "cell_type": "code",
   "execution_count": 6,
   "metadata": {},
   "outputs": [],
   "source": [
    "masks       = load_images_from_folder(train_mask_path)\n",
    "pred_masks  = load_images_from_folder(train_pred_mask_path)"
   ]
  },
  {
   "cell_type": "code",
   "execution_count": 7,
   "metadata": {},
   "outputs": [],
   "source": [
    "valid_masks      = load_images_from_folder(valid_mask_path)\n",
    "valid_pred_masks = load_images_from_folder(valid_pred_mask_path)"
   ]
  },
  {
   "cell_type": "code",
   "execution_count": 8,
   "metadata": {},
   "outputs": [
    {
     "data": {
      "image/png": "[encoded data removed]",
      "text/plain": [
       "<Figure size 432x288 with 1 Axes>"
      ]
     },
     "metadata": {
      "needs_background": "light"
     },
     "output_type": "display_data"
    }
   ],
   "source": [
    "plt.imshow(255-pred_masks['3_P_hgr1_id05_3'])\n",
    "plt.show()"
   ]
  },
  {
   "cell_type": "code",
   "execution_count": 259,
   "metadata": {},
   "outputs": [],
   "source": [
    "def handDescomposition(masks, plot=False):\n",
    "    accuracy = 0\n",
    "    \n",
    "    for key in masks.keys():\n",
    "        #resize image\n",
    "        mask = masks[key][:,:,0].copy()\n",
    "        mask = cv2.resize(mask, (512, 512), interpolation = cv2.INTER_AREA)\n",
    "        mask = mask.clip(max=1)\n",
    "\n",
    "        #invert color for viz purpose\n",
    "        mask = 255-masks[key][:,:,0].copy()\n",
    "        \n",
    "        hand = opening(mask, np.ones((51,51)))\n",
    "        \n",
    "        #top-hat\n",
    "        fingers = mask-hand\n",
    "        kernel  = np.ones((3,3), np.uint8) \n",
    "        fingers_enh = cv2.erode(fingers, kernel, iterations=6)\n",
    "        \n",
    "        #fingers-components above given area-threashold            \n",
    "        components = cv2.connectedComponentsWithStats(np.uint8(fingers_enh), connectivity=4)\n",
    "        try:\n",
    "            thd = min(max(components[2][1:, 4])//2,700)\n",
    "        except:\n",
    "            thd = 700\n",
    "        num_corners = sum(components[2][1:,4]>thd)\n",
    "            \n",
    "        if plot:       \n",
    "            plt.imshow(mask, cmap='gray')\n",
    "            #plt.show()\n",
    "            #plt.imshow(fingers, cmap='gray')\n",
    "            #plt.show()\n",
    "            #plt.imshow(fingers_enh, cmap='gray')\n",
    "            plt.savefig(\"../images/pred_inv.png\")\n",
    "    \n",
    "        if num_corners == int(key[0]): accuracy += 1\n",
    "        \n",
    "    return accuracy/len(masks.keys())"
   ]
  },
  {
   "cell_type": "code",
   "execution_count": 248,
   "metadata": {},
   "outputs": [
    {
     "data": {
      "text/plain": [
       "dict_keys(['2_P_hgr1_id08_2', '2_P_hgr1_id08_3', '2_P_hgr1_id08_1', '2_P_hgr1_id08_4', '3_P_hgr1_id08_2', '3_P_hgr1_id08_3', '3_P_hgr1_id08_1', '5_P_hgr1_id08_1', '5_P_hgr1_id08_2', '5_P_hgr1_id08_3', '4_P_hgr1_id08_1', '1_P_hgr1_id08_2', '1_P_hgr1_id08_3', '4_P_hgr1_id08_2', '1_P_hgr1_id08_1', '4_P_hgr1_id08_3', '3_P_hgr1_id07_1', '4_P_hgr1_id06_1', '1_P_hgr1_id06_2', '1_P_hgr1_id06_3', '3_P_hgr1_id07_2', '4_P_hgr1_id06_2', '1_P_hgr1_id06_1', '4_P_hgr1_id06_3', '3_P_hgr1_id07_3', '2_P_hgr1_id07_1', '5_P_hgr1_id06_1', '2_P_hgr1_id07_2', '5_P_hgr1_id06_2', '5_P_hgr1_id06_3', '2_P_hgr1_id07_3', '1_P_hgr1_id07_1', '4_P_hgr1_id07_2', '3_P_hgr1_id06_2', '3_P_hgr1_id06_3', '4_P_hgr1_id07_3', '1_P_hgr1_id07_2', '4_P_hgr1_id07_1', '3_P_hgr1_id06_1', '1_P_hgr1_id07_3', '5_P_hgr1_id07_2', '2_P_hgr1_id06_2', '2_P_hgr1_id06_3', '5_P_hgr1_id07_3', '5_P_hgr1_id07_1', '2_P_hgr1_id06_1'])"
      ]
     },
     "execution_count": 248,
     "metadata": {},
     "output_type": "execute_result"
    }
   ],
   "source": [
    "valid_pred_masks.keys()"
   ]
  },
  {
   "cell_type": "code",
   "execution_count": 260,
   "metadata": {},
   "outputs": [
    {
     "data": {
      "text/plain": [
       "1.0"
      ]
     },
     "execution_count": 260,
     "metadata": {},
     "output_type": "execute_result"
    },
    {
     "data": {
      "image/png": "[encoded data removed]",
      "text/plain": [
       "<Figure size 432x288 with 1 Axes>"
      ]
     },
     "metadata": {
      "needs_background": "light"
     },
     "output_type": "display_data"
    }
   ],
   "source": [
    "handDescomposition({'2_P_hgr1_id07_1':valid_pred_masks['2_P_hgr1_id07_1']},plot=True)"
   ]
  },
  {
   "cell_type": "code",
   "execution_count": 222,
   "metadata": {},
   "outputs": [
    {
     "data": {
      "text/plain": [
       "0.8333333333333334"
      ]
     },
     "execution_count": 222,
     "metadata": {},
     "output_type": "execute_result"
    }
   ],
   "source": [
    "handDescomposition(masks)"
   ]
  },
  {
   "cell_type": "code",
   "execution_count": 223,
   "metadata": {},
   "outputs": [
    {
     "data": {
      "text/plain": [
       "0.6739130434782609"
      ]
     },
     "execution_count": 223,
     "metadata": {},
     "output_type": "execute_result"
    }
   ],
   "source": [
    "handDescomposition(valid_pred_masks)"
   ]
  },
  {
   "cell_type": "code",
   "execution_count": null,
   "metadata": {},
   "outputs": [],
   "source": []
  }
 ],
 "metadata": {
  "kernelspec": {
   "display_name": "Python 3",
   "language": "python",
   "name": "python3"
  },
  "language_info": {
   "codemirror_mode": {
    "name": "ipython",
    "version": 3
   },
   "file_extension": ".py",
   "mimetype": "text/x-python",
   "name": "python",
   "nbconvert_exporter": "python",
   "pygments_lexer": "ipython3",
   "version": "3.7.4"
  }
 },
 "nbformat": 4,
 "nbformat_minor": 2
}
