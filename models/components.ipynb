{
 "cells": [
  {
   "cell_type": "code",
   "execution_count": 1,
   "metadata": {},
   "outputs": [],
   "source": [
    "from skimage.morphology import reconstruction\n",
    "from skimage.morphology import opening\n",
    "\n",
    "import matplotlib.pyplot as plt\n",
    "import numpy as np\n",
    "import cv2\n",
    "import os"
   ]
  },
  {
   "cell_type": "code",
   "execution_count": 2,
   "metadata": {},
   "outputs": [],
   "source": [
    "train_mask_path      = \"../data/Training-Dataset/Masks-Ideal/\"\n",
    "train_pred_mask_path = \"../data/Training-Dataset/Predicted-Masks/\"\n",
    "\n",
    "valid_mask_path      = \"../data/Validation-Dataset/Masks-Ideal/\"\n",
    "valid_pred_mask_path = \"../data/Validation-Dataset/Predicted-Masks/\""
   ]
  },
  {
   "cell_type": "code",
   "execution_count": 3,
   "metadata": {},
   "outputs": [],
   "source": [
    "def load_images_from_folder(folder):\n",
    "    images = {}\n",
    "    for filename in os.listdir(folder):\n",
    "        img = cv2.imread(os.path.join(folder,filename))\n",
    "        if img is not None:\n",
    "            images[filename.split('.')[0]] = img  #remove extension from file name\n",
    "    return images"
   ]
  },
  {
   "cell_type": "code",
   "execution_count": 4,
   "metadata": {},
   "outputs": [],
   "source": [
    "masks       = load_images_from_folder(train_mask_path)\n",
    "pred_masks  = load_images_from_folder(train_pred_mask_path)"
   ]
  },
  {
   "cell_type": "code",
   "execution_count": 5,
   "metadata": {},
   "outputs": [],
   "source": [
    "valid_masks      = load_images_from_folder(valid_mask_path)\n",
    "valid_pred_masks = load_images_from_folder(valid_pred_mask_path)"
   ]
  },
  {
   "cell_type": "code",
   "execution_count": 6,
   "metadata": {},
   "outputs": [
    {
     "data": {
      "image/png": "[encoded data removed]",
      "text/plain": [
       "<Figure size 432x288 with 1 Axes>"
      ]
     },
     "metadata": {
      "needs_background": "light"
     },
     "output_type": "display_data"
    }
   ],
   "source": [
    "plt.imshow(255-pred_masks['3_P_hgr1_id05_3'])\n",
    "plt.show()"
   ]
  },
  {
   "cell_type": "code",
   "execution_count": 7,
   "metadata": {},
   "outputs": [],
   "source": [
    "def handDescomposition(masks, plot=False):\n",
    "    accuracy = 0\n",
    "    \n",
    "    for key in masks.keys():\n",
    "        #resize image\n",
    "        mask = masks[key][:,:,0].copy()\n",
    "        mask = mask.clip(max=1)\n",
    "\n",
    "        #invert color for viz purpose\n",
    "        mask = 255-masks[key][:,:,0].copy()\n",
    "        \n",
    "        hand = opening(mask, np.ones((53,53)))\n",
    "        \n",
    "        #top-hat\n",
    "        fingers = mask-hand\n",
    "        kernel  = np.ones((3,3), np.uint8) \n",
    "        fingers_enh = cv2.erode(fingers, kernel, iterations=8)\n",
    "        \n",
    "        #fingers-components above given area-threashold            \n",
    "        components = cv2.connectedComponentsWithStats(np.uint8(fingers_enh), connectivity=4)\n",
    "        try:\n",
    "            thd = min(max(components[2][1:, 4])//2,800)\n",
    "        except:\n",
    "            thd = 700\n",
    "        num_corners = sum(components[2][1:,4]>thd)\n",
    "            \n",
    "        if plot:       \n",
    "            plt.imshow(mask, cmap='gray')\n",
    "            plt.show()\n",
    "            plt.imshow(fingers, cmap='gray')\n",
    "            plt.show()\n",
    "            plt.imshow(fingers_enh, cmap='gray')\n",
    "            plt.show()\n",
    "\n",
    "\n",
    "        if num_corners == int(key[0]): accuracy += 1\n",
    "        \n",
    "    return accuracy/len(masks.keys())"
   ]
  },
  {
   "cell_type": "code",
   "execution_count": 8,
   "metadata": {},
   "outputs": [
    {
     "data": {
      "image/png": "[encoded data removed]",
      "text/plain": [
       "<Figure size 432x288 with 1 Axes>"
      ]
     },
     "metadata": {
      "needs_background": "light"
     },
     "output_type": "display_data"
    },
    {
     "data": {
      "image/png": "[encoded data removed]",
      "text/plain": [
       "<Figure size 432x288 with 1 Axes>"
      ]
     },
     "metadata": {
      "needs_background": "light"
     },
     "output_type": "display_data"
    },
    {
     "data": {
      "image/png": "[encoded data removed]",
      "text/plain": [
       "<Figure size 432x288 with 1 Axes>"
      ]
     },
     "metadata": {
      "needs_background": "light"
     },
     "output_type": "display_data"
    },
    {
     "data": {
      "text/plain": [
       "1.0"
      ]
     },
     "execution_count": 8,
     "metadata": {},
     "output_type": "execute_result"
    }
   ],
   "source": [
    "handDescomposition({'2_P_hgr1_id07_1':valid_pred_masks['2_P_hgr1_id07_1']},plot=True)"
   ]
  },
  {
   "cell_type": "markdown",
   "metadata": {},
   "source": [
    "### Train Performance"
   ]
  },
  {
   "cell_type": "code",
   "execution_count": 9,
   "metadata": {},
   "outputs": [
    {
     "data": {
      "text/plain": [
       "0.7333333333333333"
      ]
     },
     "execution_count": 9,
     "metadata": {},
     "output_type": "execute_result"
    }
   ],
   "source": [
    "handDescomposition(masks)"
   ]
  },
  {
   "cell_type": "markdown",
   "metadata": {},
   "source": [
    "### Valid Performance"
   ]
  },
  {
   "cell_type": "code",
   "execution_count": 10,
   "metadata": {},
   "outputs": [
    {
     "data": {
      "text/plain": [
       "0.7608695652173914"
      ]
     },
     "execution_count": 10,
     "metadata": {},
     "output_type": "execute_result"
    }
   ],
   "source": [
    "handDescomposition(valid_masks)"
   ]
  },
  {
   "cell_type": "markdown",
   "metadata": {},
   "source": [
    "### Valid-Predicted Performance"
   ]
  },
  {
   "cell_type": "code",
   "execution_count": 11,
   "metadata": {},
   "outputs": [
    {
     "data": {
      "text/plain": [
       "0.717391304347826"
      ]
     },
     "execution_count": 11,
     "metadata": {},
     "output_type": "execute_result"
    }
   ],
   "source": [
    "handDescomposition(valid_pred_masks)"
   ]
  }
 ],
 "metadata": {
  "kernelspec": {
   "display_name": "Python 3",
   "language": "python",
   "name": "python3"
  },
  "language_info": {
   "codemirror_mode": {
    "name": "ipython",
    "version": 3
   },
   "file_extension": ".py",
   "mimetype": "text/x-python",
   "name": "python",
   "nbconvert_exporter": "python",
   "pygments_lexer": "ipython3",
   "version": "3.7.4"
  }
 },
 "nbformat": 4,
 "nbformat_minor": 2
}
