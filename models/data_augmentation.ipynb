{
 "cells": [
  {
   "cell_type": "code",
   "execution_count": null,
   "metadata": {},
   "outputs": [],
   "source": [
    "from os import path\n",
    "\n",
    "import matplotlib.pyplot as plt\n",
    "import scipy.ndimage\n",
    "import numpy as np\n",
    "import cv2\n",
    "import os"
   ]
  },
  {
   "cell_type": "code",
   "execution_count": null,
   "metadata": {},
   "outputs": [],
   "source": [
    "train_img_path       = \"../data/Training-Dataset/Images/\"\n",
    "train_mask_path      = \"../data/Training-Dataset/Masks-Ideal/\"\n",
    "train_pred_mask_path = \"../data/Training-Dataset/Predicted-Masks/\"\n",
    "\n",
    "valid_img_path       = \"../data/Validation-Dataset/Images/\"\n",
    "valid_mask_path      = \"../data/Validation-Dataset/Masks-Ideal/\"\n",
    "valid_pred_mask_path = \"../data/Validation-Dataset/Predicted-Masks/\""
   ]
  },
  {
   "cell_type": "markdown",
   "metadata": {},
   "source": [
    "### Loading Data"
   ]
  },
  {
   "cell_type": "code",
   "execution_count": null,
   "metadata": {},
   "outputs": [],
   "source": [
    "def load_images_from_folder(folder):\n",
    "    images = {}\n",
    "    for filename in os.listdir(folder):\n",
    "        img = cv2.imread(os.path.join(folder,filename))\n",
    "        if img is not None:\n",
    "            images[filename.split('.')[0]] = img  #remove extension from file name\n",
    "    return images"
   ]
  },
  {
   "cell_type": "code",
   "execution_count": null,
   "metadata": {},
   "outputs": [],
   "source": [
    "images      = load_images_from_folder(train_img_path)\n",
    "masks       = load_images_from_folder(train_mask_path)\n",
    "pred_masks  = load_images_from_folder(train_pred_mask_path)"
   ]
  },
  {
   "cell_type": "code",
   "execution_count": null,
   "metadata": {},
   "outputs": [],
   "source": [
    "valid_images     = load_images_from_folder(valid_img_path)\n",
    "valid_masks      = load_images_from_folder(valid_mask_path)\n",
    "valid_pred_masks = load_images_from_folder(valid_pred_mask_path)"
   ]
  },
  {
   "cell_type": "code",
   "execution_count": null,
   "metadata": {},
   "outputs": [],
   "source": [
    "plt.title(\"Example Image\")\n",
    "plt.imshow(cv2.cvtColor(images['3_P_hgr1_id05_3'], cv2.COLOR_BGR2RGB))\n",
    "plt.show()\n",
    "plt.title(\"Corresponding Ideal Mask\")\n",
    "plt.imshow(cv2.cvtColor(masks['3_P_hgr1_id05_3'], cv2.COLOR_BGR2RGB))\n",
    "plt.show()\n",
    "plt.title(\"Corresponding Predicted Mask\")\n",
    "plt.imshow(cv2.cvtColor(pred_masks['3_P_hgr1_id05_3'], cv2.COLOR_BGR2RGB))\n",
    "plt.show()"
   ]
  },
  {
   "cell_type": "markdown",
   "metadata": {},
   "source": [
    "### Functional Code"
   ]
  },
  {
   "cell_type": "code",
   "execution_count": null,
   "metadata": {},
   "outputs": [],
   "source": [
    "def dataAugmentation(images):  # Performs basic augmentation: 90-degrees rotation and flips \n",
    "    augmentation = {}\n",
    "    for key in images.keys():\n",
    "        image = images[key].copy()\n",
    "        augmentation[key] = image\n",
    "        augmentation[key + '_clock_wise'] = cv2.rotate(image, cv2.ROTATE_90_CLOCKWISE)\n",
    "        augmentation[key + '_counter_clock_wise'] = cv2.rotate(image, cv2.ROTATE_90_COUNTERCLOCKWISE)\n",
    "        augmentation[key + '_vertical'] = cv2.flip(image, 0)\n",
    "        augmentation[key + '_horizontal'] = cv2.flip(image, 1)\n",
    "        augmentation[key + '_horizontal_vertical'] = cv2.flip(image, -1)\n",
    "    \n",
    "    return augmentation"
   ]
  },
  {
   "cell_type": "code",
   "execution_count": null,
   "metadata": {},
   "outputs": [],
   "source": [
    "def extensiveDataAugmentation(data, folderName, augment = True): # Performs extensive augmentation: n-degrees rotation\n",
    "    augmentation = {}  \n",
    "    print(\"augmenting\")\n",
    "\n",
    "    if augment:\n",
    "        for key in data.keys():\n",
    "            for i in range(0,360,12):\n",
    "                augmentation[str(key) + 'rotation' + str(i)] = scipy.ndimage.rotate(data[key], i, reshape=False, cval = 255, mode='constant')  \n",
    "    else:\n",
    "        augmentation = data \n",
    "\n",
    "    print(\"resizing\")  \n",
    "    resize = resizeData(augmentation, filter = False)\n",
    "\n",
    "    augmented = []\n",
    "    labels = []\n",
    "    for key_ in resize.keys():\n",
    "        inv = 255-resize[key_]\n",
    "        img = inv.clip(max=1)\n",
    "        #print(np.unique(img))\n",
    "        augmented.append(img)\n",
    "        labels.append(np.array(folderName-1))\n",
    "    \n",
    "    return np.array(augmented), np.array(labels)"
   ]
  },
  {
   "cell_type": "code",
   "execution_count": null,
   "metadata": {},
   "outputs": [],
   "source": [
    "def resizeData(images, width=256, height=256, filter=True, kernel_size=5):\n",
    "    resize = {}\n",
    "    for key in images.keys(): \n",
    "        image = images[key].copy()\n",
    "        \n",
    "        if filter:\n",
    "            image = cv2.GaussianBlur(image, (kernel_size, kernel_size),0 )\n",
    "        \n",
    "        resize[key] = cv2.resize(image, (width, height), interpolation = cv2.INTER_AREA)\n",
    "        \n",
    "    return resize"
   ]
  },
  {
   "cell_type": "code",
   "execution_count": null,
   "metadata": {},
   "outputs": [],
   "source": [
    "def storeData(folder, data):\n",
    "    for key in data.keys():\n",
    "        img = data[key]\n",
    "        cv2.imwrite(folder + key + '.jpg', img)"
   ]
  },
  {
   "cell_type": "markdown",
   "metadata": {},
   "source": [
    "### Data Augmentation - Rotation & Flip"
   ]
  },
  {
   "cell_type": "code",
   "execution_count": null,
   "metadata": {},
   "outputs": [],
   "source": [
    "if not path.exists(\"../data/Training-Dataset/Resize-Augmented-Images/\"):\n",
    "    augmented_images     = dataAugmentation(images)\n",
    "    augmented_masks      = dataAugmentation(masks)\n",
    "    augmented_pred_masks = dataAugmentation(pred_masks)"
   ]
  },
  {
   "cell_type": "code",
   "execution_count": null,
   "metadata": {},
   "outputs": [],
   "source": [
    "if not path.exists(\"../data/Validation-Dataset/Resize-Augmented-Images/\"):\n",
    "    augmented_valid_images     = dataAugmentation(valid_images)\n",
    "    augmented_valid_masks      = dataAugmentation(valid_masks)\n",
    "    augmented_valid_pred_masks = dataAugmentation(valid_pred_masks)"
   ]
  },
  {
   "cell_type": "code",
   "execution_count": null,
   "metadata": {},
   "outputs": [],
   "source": [
    "# Uncomment under plots for viz purpose & Comment under plots if cnn.ipynb is using this notebook\n",
    "'''\n",
    "plt.title(\"Example Image\")\n",
    "plt.imshow(cv2.cvtColor(augmented_images['3_P_hgr1_id05_3'], cv2.COLOR_BGR2RGB))\n",
    "plt.show()\n",
    "plt.title(\"Image Rotated Clock-Wise\")\n",
    "plt.imshow(cv2.cvtColor(augmented_images['3_P_hgr1_id05_3_clock_wise'], cv2.COLOR_BGR2RGB))\n",
    "plt.show()\n",
    "plt.title(\"Image Rotated Counter-Clock-Wise\")\n",
    "plt.imshow(cv2.cvtColor(augmented_images['3_P_hgr1_id05_3_counter_clock_wise'], cv2.COLOR_BGR2RGB))\n",
    "plt.show()\n",
    "plt.title(\"Image Flip Vertical\")\n",
    "plt.imshow(cv2.cvtColor(augmented_images['3_P_hgr1_id05_3_vertical'], cv2.COLOR_BGR2RGB))\n",
    "plt.show()\n",
    "plt.title(\"Image Flip Horizontal\")\n",
    "plt.imshow(cv2.cvtColor(augmented_images['3_P_hgr1_id05_3_horizontal'], cv2.COLOR_BGR2RGB))\n",
    "plt.show()\n",
    "plt.title(\"Image Flip Horizontal Vertical\")\n",
    "plt.imshow(cv2.cvtColor(augmented_images['3_P_hgr1_id05_3_horizontal_vertical'], cv2.COLOR_BGR2RGB))\n",
    "plt.show()\n",
    "'''"
   ]
  },
  {
   "cell_type": "markdown",
   "metadata": {},
   "source": [
    "### Data Uniform Size "
   ]
  },
  {
   "cell_type": "code",
   "execution_count": null,
   "metadata": {},
   "outputs": [],
   "source": [
    "if not path.exists(\"../data/Training-Dataset/Resize-Augmented-Images/\"):\n",
    "    resized_images      = resizeData(augmented_images)\n",
    "    resized_masks       = resizeData(augmented_masks, filter=False)\n",
    "    resized_pred_masks  = resizeData(augmented_pred_masks, filter=False)"
   ]
  },
  {
   "cell_type": "code",
   "execution_count": null,
   "metadata": {},
   "outputs": [],
   "source": [
    "if not path.exists(\"../data/Validation-Dataset/Resize-Augmented-Images/\"):\n",
    "    resized_valid_images      = resizeData(augmented_valid_images)\n",
    "    resized_valid_masks       = resizeData(augmented_valid_masks, filter=False)\n",
    "    resized_valid_pred_masks  = resizeData(augmented_valid_pred_masks, filter=False)"
   ]
  },
  {
   "cell_type": "code",
   "execution_count": null,
   "metadata": {},
   "outputs": [],
   "source": [
    "# Uncomment under plots for viz purpose & Comment under plots if cnn.ipynb is using this notebook\n",
    "'''\n",
    "plt.title(\"Image Flip Vertical Resized\")\n",
    "plt.imshow(cv2.cvtColor(resized_images['3_P_hgr1_id05_3_vertical'], cv2.COLOR_BGR2RGB))\n",
    "plt.show()\n",
    "plt.title(\"Image Flip Horizontal Resized\")\n",
    "plt.imshow(cv2.cvtColor(resized_images['3_P_hgr1_id05_3_horizontal'], cv2.COLOR_BGR2RGB))\n",
    "plt.show()\n",
    "'''"
   ]
  },
  {
   "cell_type": "code",
   "execution_count": null,
   "metadata": {},
   "outputs": [],
   "source": [
    "# Uncomment under plots for viz purpose & Comment under plots if cnn.ipynb is using this notebook\n",
    "'''\n",
    "plt.title(\"Image Flip Vertical Resized\")\n",
    "plt.imshow(cv2.cvtColor(resized_images['3_P_hgr1_id05_3'], cv2.COLOR_BGR2RGB))\n",
    "plt.show()\n",
    "plt.title(\"Ideal Mask Flip Vertical Resized\")\n",
    "plt.imshow(cv2.cvtColor(resized_masks['3_P_hgr1_id05_3'], cv2.COLOR_BGR2RGB))\n",
    "plt.show()\n",
    "plt.title(\"Predicted Mask Flip Vertical Resized\")\n",
    "plt.imshow(cv2.cvtColor(resized_pred_masks['3_P_hgr1_id05_3'], cv2.COLOR_BGR2RGB))\n",
    "plt.show()\n",
    "'''"
   ]
  },
  {
   "cell_type": "code",
   "execution_count": null,
   "metadata": {},
   "outputs": [],
   "source": [
    "if not path.exists(\"../data/Training-Dataset/Resize-Augmented-Images/\"):\n",
    "    !mkdir ../data/Training-Dataset/Resize-Augmented-Images\n",
    "    !mkdir ../data/Training-Dataset/Resize-Augmented-Masks\n",
    "    !mkdir ../data/Training-Dataset/Resize-Augmented-Predicted-Masks\n",
    "\n",
    "    storeData(\"../data/Training-Dataset/Resize-Augmented-Images/\", resized_images)\n",
    "    storeData(\"../data/Training-Dataset/Resize-Augmented-Masks/\", resized_masks)\n",
    "    storeData(\"../data/Training-Dataset/Resize-Augmented-Predicted-Masks/\", resized_pred_masks)"
   ]
  },
  {
   "cell_type": "code",
   "execution_count": null,
   "metadata": {},
   "outputs": [],
   "source": [
    "if not path.exists(\"../data/Validation-Dataset/Resize-Augmented-Images/\"):\n",
    "\n",
    "    !mkdir ../data/Validation-Dataset/Resize-Augmented-Images\n",
    "    !mkdir ../data/Validation-Dataset/Resize-Augmented-Masks\n",
    "    !mkdir ../data/Validation-Dataset/Resize-Augmented-Predicted-Masks\n",
    "\n",
    "    storeData(\"../data/Validation-Dataset/Resize-Augmented-Images/\", resized_valid_images)\n",
    "    storeData(\"../data/Validation-Dataset/Resize-Augmented-Masks/\", resized_valid_masks)\n",
    "    storeData(\"../data/Validation-Dataset/Resize-Augmented-Predicted-Masks/\", resized_valid_pred_masks)"
   ]
  }
 ],
 "metadata": {
  "kernelspec": {
   "display_name": "Python 3",
   "language": "python",
   "name": "python3"
  },
  "language_info": {
   "codemirror_mode": {
    "name": "ipython",
    "version": 3
   },
   "file_extension": ".py",
   "mimetype": "text/x-python",
   "name": "python",
   "nbconvert_exporter": "python",
   "pygments_lexer": "ipython3",
   "version": "3.7.4"
  }
 },
 "nbformat": 4,
 "nbformat_minor": 2
}
